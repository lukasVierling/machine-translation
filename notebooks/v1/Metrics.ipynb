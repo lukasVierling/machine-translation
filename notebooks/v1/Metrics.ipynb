{
 "cells": [
  {
   "attachments": {},
   "cell_type": "markdown",
   "metadata": {},
   "source": [
    "# Versuch 1 Calculations"
   ]
  },
  {
   "cell_type": "code",
   "execution_count": 9,
   "metadata": {},
   "outputs": [],
   "source": [
    "import sys\n",
    "sys.path.append('..')\n",
    "\n",
    "from src.utils.metrics import Metrics\n",
    "from src.data_loader import DataLoader"
   ]
  },
  {
   "attachments": {},
   "cell_type": "markdown",
   "metadata": {},
   "source": [
    "## Load Files"
   ]
  },
  {
   "cell_type": "code",
   "execution_count": 10,
   "metadata": {},
   "outputs": [],
   "source": [
    "hypothesis_1 = '../data/data_v1/newstest.hyp1'\n",
    "hypothesis_2 = '../data/data_v1/newstest.hyp2'\n",
    "hypothesis_3 = '../data/data_v1/newstest.hyp3'\n",
    "reference = '../data/data_v1/newstest.en'"
   ]
  },
  {
   "cell_type": "code",
   "execution_count": 11,
   "metadata": {},
   "outputs": [],
   "source": [
    "hypothesis_1_dl = DataLoader(hypothesis_1)\n",
    "hypothesis_2_dl = DataLoader(hypothesis_2)\n",
    "hypothesis_3_dl = DataLoader(hypothesis_3)\n",
    "reference_dl = DataLoader(reference)\n",
    "hypothesis_dl = [hypothesis_1_dl,hypothesis_2_dl,hypothesis_3_dl]"
   ]
  },
  {
   "cell_type": "code",
   "execution_count": 12,
   "metadata": {},
   "outputs": [],
   "source": [
    "metrics = Metrics()"
   ]
  },
  {
   "cell_type": "code",
   "execution_count": 13,
   "metadata": {},
   "outputs": [],
   "source": [
    "for dataloader in hypothesis_dl:\n",
    "    dataloader.load_data()"
   ]
  },
  {
   "attachments": {},
   "cell_type": "markdown",
   "metadata": {},
   "source": [
    "# PER"
   ]
  },
  {
   "cell_type": "code",
   "execution_count": 14,
   "metadata": {},
   "outputs": [
    {
     "name": "stdout",
     "output_type": "stream",
     "text": [
      "PER Score: \n",
      "0.25061086676440536\n",
      "PER Score: \n",
      "0.2557643609222977\n",
      "PER Score: \n",
      "0.4657988656389296\n"
     ]
    }
   ],
   "source": [
    "for dataloader in hypothesis_dl:\n",
    "    print(\"PER Score: \")\n",
    "    print(metrics.PER(dataloader.tokenize(mode=\"lines\"),reference_dl.tokenize(mode=\"lines\")))"
   ]
  },
  {
   "attachments": {},
   "cell_type": "markdown",
   "metadata": {},
   "source": [
    "# WER"
   ]
  },
  {
   "cell_type": "code",
   "execution_count": 15,
   "metadata": {},
   "outputs": [
    {
     "name": "stdout",
     "output_type": "stream",
     "text": [
      "WER Score: \n",
      "0.3644912405408207\n",
      "WER Score: \n",
      "0.37188087727871816\n",
      "WER Score: \n",
      "0.6282968294163815\n"
     ]
    }
   ],
   "source": [
    "for dataloader in hypothesis_dl:\n",
    "    print(\"WER Score: \")\n",
    "    print(metrics.WER(dataloader.tokenize(mode=\"lines\"),reference_dl.tokenize(mode=\"lines\")))"
   ]
  },
  {
   "attachments": {},
   "cell_type": "markdown",
   "metadata": {},
   "source": [
    "# BLEU Score"
   ]
  },
  {
   "cell_type": "code",
   "execution_count": 16,
   "metadata": {},
   "outputs": [
    {
     "name": "stdout",
     "output_type": "stream",
     "text": [
      "BLEU Score: \n",
      "0.4850221157121662\n",
      "BLEU Score: \n",
      "0.47679649673421626\n",
      "BLEU Score: \n",
      "0.18564978528059253\n"
     ]
    }
   ],
   "source": [
    "for dataloader in hypothesis_dl:\n",
    "    print(\"BLEU Score: \")\n",
    "    print(metrics.bleu_score(4,dataloader.tokenize(mode=\"lines\"),reference_dl.tokenize(mode=\"lines\")))"
   ]
  }
 ],
 "metadata": {
  "kernelspec": {
   "display_name": "MT",
   "language": "python",
   "name": "python3"
  },
  "language_info": {
   "codemirror_mode": {
    "name": "ipython",
    "version": 3
   },
   "file_extension": ".py",
   "mimetype": "text/x-python",
   "name": "python",
   "nbconvert_exporter": "python",
   "pygments_lexer": "ipython3",
   "version": "3.11.3"
  },
  "orig_nbformat": 4
 },
 "nbformat": 4,
 "nbformat_minor": 2
}
