{
 "cells": [
  {
   "cell_type": "code",
   "execution_count": 1,
   "metadata": {},
   "outputs": [
    {
     "name": "stderr",
     "output_type": "stream",
     "text": [
      "UsageError: %%time is a cell magic, but the cell body is empty. Did you mean the line magic %time (single %)?\n"
     ]
    }
   ],
   "source": [
    "%%time"
   ]
  },
  {
   "cell_type": "code",
   "execution_count": 3,
   "metadata": {},
   "outputs": [
    {
     "name": "stderr",
     "output_type": "stream",
     "text": [
      "/Users/lukas/anaconda3/lib/python3.10/site-packages/tqdm/auto.py:22: TqdmWarning: IProgress not found. Please update jupyter and ipywidgets. See https://ipywidgets.readthedocs.io/en/stable/user_install.html\n",
      "  from .autonotebook import tqdm as notebook_tqdm\n"
     ]
    }
   ],
   "source": [
    "import sys\n",
    "sys.path.append('..')\n",
    "\n",
    "#from torchmetrics import BLEUScore, WordErrorRate\n",
    "\n",
    "import torch\n",
    "\n",
    "from math import log, exp, e\n",
    "\n",
    "import numpy as np\n",
    "from src.utils import Metrics\n",
    "from src import DataLoader\n",
    "from src import Model\n",
    "from data.dataset import MTDataset"
   ]
  },
  {
   "cell_type": "code",
   "execution_count": null,
   "metadata": {},
   "outputs": [],
   "source": []
  },
  {
   "cell_type": "code",
   "execution_count": 21,
   "metadata": {},
   "outputs": [],
   "source": [
    "model = torch.load('../logs/final_model_1.0000/checkpoints/model_1.pt')\n",
    "input_names = ['German Source', 'English Target']\n",
    "output_names = ['English Token']\n",
    "args =  (torch.randint(1,200,(128,7)),torch.randint(1,200,(128,3)))\n",
    "torch.onnx.export(model,args,'FFModel.onnx', input_names=input_names, output_names=output_names)"
   ]
  },
  {
   "attachments": {},
   "cell_type": "markdown",
   "metadata": {},
   "source": [
    "## Torch dataset"
   ]
  },
  {
   "cell_type": "code",
   "execution_count": 3,
   "metadata": {},
   "outputs": [],
   "source": [
    "model = Model(5000, window=2)"
   ]
  },
  {
   "cell_type": "code",
   "execution_count": 4,
   "metadata": {},
   "outputs": [
    {
     "name": "stdout",
     "output_type": "stream",
     "text": [
      "tensor([[4, 0, 4, 5, 6],\n",
      "        [5, 1, 3, 5, 5],\n",
      "        [3, 2, 6, 0, 2]])\n",
      "tensor([[6, 9],\n",
      "        [0, 7],\n",
      "        [1, 3]])\n",
      "torch.Size([3, 5])\n",
      "torch.Size([3, 2])\n",
      "torch.Size([3, 5, 2048])\n",
      "torch.Size([3, 2, 2048])\n",
      "torch.Size([3, 10240])\n",
      "torch.Size([3, 1024])\n",
      "torch.Size([3, 4096])\n",
      "torch.Size([3, 1024])\n",
      "torch.Size([3, 2048])\n",
      "torch.Size([3, 1024])\n",
      "torch.Size([3, 5000])\n"
     ]
    },
    {
     "data": {
      "text/plain": [
       "tensor([[ 0.8297,  0.0507, -0.1398,  ..., -0.1203,  0.0931, -0.1493],\n",
       "        [ 0.1378,  0.1286,  0.4216,  ...,  0.4917,  0.0968, -0.1690],\n",
       "        [ 0.1338, -0.1661, -0.1155,  ...,  0.0191,  0.0929, -0.1675]],\n",
       "       grad_fn=<GeluBackward0>)"
      ]
     },
     "execution_count": 4,
     "metadata": {},
     "output_type": "execute_result"
    }
   ],
   "source": [
    "batch1 = torch.randint(0,10,(3,5))\n",
    "batch2 = torch.randint(0,10,(3,2))\n",
    "model(batch1,batch2)"
   ]
  },
  {
   "cell_type": "code",
   "execution_count": null,
   "metadata": {},
   "outputs": [
    {
     "name": "stdout",
     "output_type": "stream",
     "text": [
      "torch.Size([5])\n",
      "torch.Size([2])\n",
      "torch.Size([5, 2048])\n",
      "torch.Size([2, 2048])\n",
      "torch.Size([10240])\n",
      "torch.Size([1024])\n",
      "torch.Size([4096])\n",
      "torch.Size([1024])\n",
      "torch.Size([2048])\n",
      "torch.Size([1024])\n",
      "torch.Size([5000])\n"
     ]
    },
    {
     "name": "stderr",
     "output_type": "stream",
     "text": [
      "/Users/lukas/Machine Translation/machine-translation/notebooks/../src/models/model.py:53: UserWarning: Implicit dimension choice for log_softmax has been deprecated. Change the call to include dim=X as an argument.\n",
      "  z = self.softmax(z)\n"
     ]
    },
    {
     "data": {
      "text/plain": [
       "tensor([ 0.1057, -0.1500,  0.4522,  ...,  0.3500, -0.0410, -0.0478],\n",
       "       grad_fn=<GeluBackward0>)"
      ]
     },
     "execution_count": 3,
     "metadata": {},
     "output_type": "execute_result"
    }
   ],
   "source": [
    "s = torch.tensor([1,2,4,3,1])\n",
    "t = torch.tensor([1,3])\n",
    "model(s,t)"
   ]
  },
  {
   "cell_type": "code",
   "execution_count": null,
   "metadata": {},
   "outputs": [
    {
     "data": {
      "text/plain": [
       "0.031536712281812374"
      ]
     },
     "execution_count": 8,
     "metadata": {},
     "output_type": "execute_result"
    }
   ],
   "source": [
    "metrics.bleu_score(3,h1_tokens,ref_tokens)"
   ]
  },
  {
   "cell_type": "code",
   "execution_count": null,
   "metadata": {},
   "outputs": [
    {
     "name": "stdout",
     "output_type": "stream",
     "text": [
      "[([1, 2], [5, 6]), ([3, 4], [7, 8])]\n"
     ]
    }
   ],
   "source": [
    "a = [[1,2],[3,4]]\n",
    "b = [[5,6],[7,8]]\n",
    "c = [(i,j) for i,j in zip(a,b)]\n",
    "print(c)"
   ]
  },
  {
   "cell_type": "code",
   "execution_count": null,
   "metadata": {},
   "outputs": [
    {
     "data": {
      "text/plain": [
       "tensor(0.5428)"
      ]
     },
     "execution_count": 10,
     "metadata": {},
     "output_type": "execute_result"
    }
   ],
   "source": [
    "bscore = BLEUScore(4)\n",
    "\n",
    "bscore([data_loader_h1.load_data()],[[data_loader_ref.load_data()]])"
   ]
  },
  {
   "cell_type": "code",
   "execution_count": null,
   "metadata": {},
   "outputs": [
    {
     "data": {
      "text/plain": [
       "0.4850221157121662"
      ]
     },
     "execution_count": 11,
     "metadata": {},
     "output_type": "execute_result"
    }
   ],
   "source": [
    "h1 = data_loader_h1.tokenize(mode=\"lines_words\")\n",
    "ref = data_loader_ref.tokenize(mode=\"lines_words\")\n",
    "metrics.bleu_score(4,h1,ref)\n"
   ]
  },
  {
   "cell_type": "markdown",
   "metadata": {},
   "source": [
    "## WER Score\n"
   ]
  },
  {
   "attachments": {},
   "cell_type": "markdown",
   "metadata": {},
   "source": [
    "### Hypothesis 1"
   ]
  },
  {
   "cell_type": "code",
   "execution_count": null,
   "metadata": {},
   "outputs": [
    {
     "data": {
      "text/plain": [
       "0.3644912405408207"
      ]
     },
     "execution_count": 12,
     "metadata": {},
     "output_type": "execute_result"
    }
   ],
   "source": [
    "metrics.WER(h1_sentences, ref_sentences)"
   ]
  },
  {
   "cell_type": "code",
   "execution_count": null,
   "metadata": {},
   "outputs": [
    {
     "data": {
      "text/plain": [
       "tensor(0.3645)"
      ]
     },
     "execution_count": 13,
     "metadata": {},
     "output_type": "execute_result"
    }
   ],
   "source": [
    "WER1 = WordErrorRate()\n",
    "WER1.update(preds=h1_sentences, target=ref_sentences)\n",
    "WER1.compute()"
   ]
  },
  {
   "attachments": {},
   "cell_type": "markdown",
   "metadata": {},
   "source": [
    "### Hypothesis 2\n"
   ]
  },
  {
   "cell_type": "code",
   "execution_count": null,
   "metadata": {},
   "outputs": [
    {
     "data": {
      "text/plain": [
       "0.37188087727871816"
      ]
     },
     "execution_count": 14,
     "metadata": {},
     "output_type": "execute_result"
    }
   ],
   "source": [
    "metrics.WER(h2_sentences, ref_sentences)"
   ]
  },
  {
   "cell_type": "code",
   "execution_count": null,
   "metadata": {},
   "outputs": [
    {
     "data": {
      "text/plain": [
       "tensor(0.3719)"
      ]
     },
     "execution_count": 15,
     "metadata": {},
     "output_type": "execute_result"
    }
   ],
   "source": [
    "WER2 = WordErrorRate()\n",
    "WER2.update(preds=h2_sentences, target=ref_sentences)\n",
    "WER2.compute()"
   ]
  },
  {
   "attachments": {},
   "cell_type": "markdown",
   "metadata": {},
   "source": [
    "### Hypothesis 3"
   ]
  },
  {
   "cell_type": "code",
   "execution_count": null,
   "metadata": {},
   "outputs": [
    {
     "data": {
      "text/plain": [
       "0.6282968294163815"
      ]
     },
     "execution_count": 16,
     "metadata": {},
     "output_type": "execute_result"
    }
   ],
   "source": [
    "metrics.WER(h3_sentences, ref_sentences)"
   ]
  },
  {
   "cell_type": "code",
   "execution_count": null,
   "metadata": {},
   "outputs": [
    {
     "data": {
      "text/plain": [
       "tensor(0.6283)"
      ]
     },
     "execution_count": 17,
     "metadata": {},
     "output_type": "execute_result"
    }
   ],
   "source": [
    "WER3 = WordErrorRate()\n",
    "WER3.update(preds=h3_sentences, target=ref_sentences)\n",
    "WER3.compute()"
   ]
  },
  {
   "cell_type": "markdown",
   "metadata": {},
   "source": [
    "## PER Score"
   ]
  },
  {
   "attachments": {},
   "cell_type": "markdown",
   "metadata": {},
   "source": [
    "### Hypothesis 1"
   ]
  },
  {
   "cell_type": "code",
   "execution_count": null,
   "metadata": {},
   "outputs": [
    {
     "data": {
      "text/plain": [
       "0.25061086676440536"
      ]
     },
     "execution_count": 18,
     "metadata": {},
     "output_type": "execute_result"
    }
   ],
   "source": [
    "metrics.PER(h1_sentences, ref_sentences)"
   ]
  },
  {
   "attachments": {},
   "cell_type": "markdown",
   "metadata": {},
   "source": [
    "### Hypothesis 2"
   ]
  },
  {
   "cell_type": "code",
   "execution_count": null,
   "metadata": {},
   "outputs": [
    {
     "data": {
      "text/plain": [
       "0.2557643609222977"
      ]
     },
     "execution_count": 19,
     "metadata": {},
     "output_type": "execute_result"
    }
   ],
   "source": [
    "metrics.PER(h2_sentences, ref_sentences)"
   ]
  },
  {
   "attachments": {},
   "cell_type": "markdown",
   "metadata": {},
   "source": [
    "### Hypothesis 3"
   ]
  },
  {
   "cell_type": "code",
   "execution_count": null,
   "metadata": {},
   "outputs": [
    {
     "data": {
      "text/plain": [
       "0.4657988656389296"
      ]
     },
     "execution_count": 20,
     "metadata": {},
     "output_type": "execute_result"
    }
   ],
   "source": [
    "metrics.PER(h3_sentences, ref_sentences)"
   ]
  },
  {
   "cell_type": "markdown",
   "metadata": {},
   "source": [
    "## BLEU Score"
   ]
  }
 ],
 "metadata": {
  "kernelspec": {
   "display_name": "Python 3.11.2 ('MT')",
   "language": "python",
   "name": "python3"
  },
  "language_info": {
   "codemirror_mode": {
    "name": "ipython",
    "version": 3
   },
   "file_extension": ".py",
   "mimetype": "text/x-python",
   "name": "python",
   "nbconvert_exporter": "python",
   "pygments_lexer": "ipython3",
   "version": "3.10.9"
  },
  "orig_nbformat": 4,
  "vscode": {
   "interpreter": {
    "hash": "8b914bf7c340f2b6f90c4cbe8f54aef6591211e0129cb48b224f4d9e9e526a8f"
   }
  }
 },
 "nbformat": 4,
 "nbformat_minor": 2
}
