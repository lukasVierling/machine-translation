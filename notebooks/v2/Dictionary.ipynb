{
 "cells": [
  {
   "attachments": {},
   "cell_type": "markdown",
   "metadata": {},
   "source": [
    "# Create dictionaries"
   ]
  },
  {
   "cell_type": "code",
   "execution_count": 2,
   "metadata": {},
   "outputs": [],
   "source": [
    "import sys\n",
    "sys.path.append('../..')\n",
    "\n",
    "\n",
    "from src.pickle_loader import PickleLoader\n",
    "from src.preprocessing.dictionary import Dictionary\n",
    "from src.utils.byte_pair_encoding import BytePairEncoder\n",
    "from src.data_loader import DataLoader\n",
    "\n",
    "from multiprocessing import Pool"
   ]
  },
  {
   "cell_type": "code",
   "execution_count": 4,
   "metadata": {},
   "outputs": [],
   "source": [
    "# load source and target data\n",
    "source_data_loader = DataLoader(\"../../data/data_v2/multi30k.de.gz\")\n",
    "target_data_loader = DataLoader(\"../../data/data_v2/multi30k.en.gz\")\n",
    "\n",
    "source_data = source_data_loader.tokenize(mode=\"lines\")\n",
    "target_data = target_data_loader.tokenize(mode=\"lines\")"
   ]
  },
  {
   "cell_type": "code",
   "execution_count": 9,
   "metadata": {},
   "outputs": [],
   "source": [
    "# load source and target byte-pair-encoder\n",
    "source_encoder = PickleLoader.load(\"../../logs/BPE_DE_5000.pickle\")\n",
    "target_encoder = PickleLoader.load(\"../../logs/BPE_EN_5000.pickle\")\n"
   ]
  },
  {
   "cell_type": "code",
   "execution_count": 10,
   "metadata": {},
   "outputs": [],
   "source": [
    "# encode source data\n",
    "with Pool() as p:\n",
    "    source_data_encoded = p.map(source_encoder.encode, source_data)"
   ]
  },
  {
   "cell_type": "code",
   "execution_count": 11,
   "metadata": {},
   "outputs": [],
   "source": [
    "# encode target data\n",
    "with Pool() as p:\n",
    "    target_data_encoded = p.map(target_encoder.encode, target_data)"
   ]
  },
  {
   "cell_type": "code",
   "execution_count": 8,
   "metadata": {},
   "outputs": [],
   "source": [
    "PickleLoader.save(\"data/data_v2/multi30k.de.encoded.pickle\", source_data_encoded)\n",
    "PickleLoader.save(\"data/data_v2/multi30k.en.encoded.pickle\", target_data_encoded)"
   ]
  },
  {
   "cell_type": "code",
   "execution_count": 13,
   "metadata": {},
   "outputs": [
    {
     "name": "stdout",
     "output_type": "stream",
     "text": [
      "{'<UNK>': 2, '<s>': 0, '</s>': 1}\n"
     ]
    }
   ],
   "source": [
    "# create source dictionary\n",
    "source_dictionary = Dictionary(\"DE_5000\")\n",
    "for line in source_data_encoded:\n",
    "    source_dictionary.update(line)\n",
    "# source_dictionary.update(source_data_encoded)"
   ]
  },
  {
   "cell_type": "code",
   "execution_count": 19,
   "metadata": {},
   "outputs": [
    {
     "name": "stdout",
     "output_type": "stream",
     "text": [
      "{'<UNK>': 2, '<s>': 0, '</s>': 1}\n"
     ]
    }
   ],
   "source": [
    "# create target dictionary\n",
    "target_dictionary = Dictionary(\"EN_5000\")\n",
    "for line in target_data_encoded:\n",
    "    target_dictionary.update(line)"
   ]
  },
  {
   "cell_type": "code",
   "execution_count": 21,
   "metadata": {},
   "outputs": [
    {
     "ename": "FileNotFoundError",
     "evalue": "[Errno 2] No such file or directory: '../data/dictionaries/dict_DE_5000.pkl'",
     "output_type": "error",
     "traceback": [
      "\u001b[0;31m---------------------------------------------------------------------------\u001b[0m",
      "\u001b[0;31mFileNotFoundError\u001b[0m                         Traceback (most recent call last)",
      "Cell \u001b[0;32mIn[21], line 4\u001b[0m\n\u001b[1;32m      2\u001b[0m PickleLoader\u001b[39m.\u001b[39msave(\u001b[39m\"\u001b[39m\u001b[39m../../data/dictionaries/dict_DE_5000.pkl\u001b[39m\u001b[39m\"\u001b[39m, source_dictionary)\n\u001b[1;32m      3\u001b[0m PickleLoader\u001b[39m.\u001b[39msave(\u001b[39m\"\u001b[39m\u001b[39m../../data/dictionaries/dict_EN_5000.pkl\u001b[39m\u001b[39m\"\u001b[39m, target_dictionary)\n\u001b[0;32m----> 4\u001b[0m source_dictionary\u001b[39m.\u001b[39;49msave()\n\u001b[1;32m      5\u001b[0m target_dictionary\u001b[39m.\u001b[39msave()\n",
      "File \u001b[0;32m~/Documents/Uni/4. Semester/machine-translation/notebooks/v2/../../src/preprocessing/dictionary.py:158\u001b[0m, in \u001b[0;36mDictionary.save\u001b[0;34m(self)\u001b[0m\n\u001b[1;32m    154\u001b[0m \u001b[39mdef\u001b[39;00m \u001b[39msave\u001b[39m(\u001b[39mself\u001b[39m): \n\u001b[1;32m    155\u001b[0m     \u001b[39m\"\"\"\u001b[39;00m\n\u001b[1;32m    156\u001b[0m \u001b[39m    Saves the dictionary to a pickle file\u001b[39;00m\n\u001b[1;32m    157\u001b[0m \u001b[39m    \"\"\"\u001b[39;00m\n\u001b[0;32m--> 158\u001b[0m     \u001b[39mwith\u001b[39;00m \u001b[39mopen\u001b[39;49m(\u001b[39mself\u001b[39;49m\u001b[39m.\u001b[39;49m__path_to_file, \u001b[39m\"\u001b[39;49m\u001b[39mwb+\u001b[39;49m\u001b[39m\"\u001b[39;49m) \u001b[39mas\u001b[39;00m savefile:\n\u001b[1;32m    159\u001b[0m         pickle\u001b[39m.\u001b[39mdump(\u001b[39mself\u001b[39m\u001b[39m.\u001b[39m__mapping, savefile, protocol\u001b[39m=\u001b[39mpickle\u001b[39m.\u001b[39mHIGHEST_PROTOCOL)\n",
      "\u001b[0;31mFileNotFoundError\u001b[0m: [Errno 2] No such file or directory: '../data/dictionaries/dict_DE_5000.pkl'"
     ]
    }
   ],
   "source": [
    "# save dictionaries\n",
    "PickleLoader.save(\"../../data/dictionaries/dict_DE_5000.pkl\", source_dictionary)\n",
    "PickleLoader.save(\"../../data/dictionaries/dict_EN_5000.pkl\", target_dictionary)\n",
    "source_dictionary.save()\n",
    "target_dictionary.save()"
   ]
  }
 ],
 "metadata": {
  "kernelspec": {
   "display_name": "machine_translation",
   "language": "python",
   "name": "python3"
  },
  "language_info": {
   "codemirror_mode": {
    "name": "ipython",
    "version": 3
   },
   "file_extension": ".py",
   "mimetype": "text/x-python",
   "name": "python",
   "nbconvert_exporter": "python",
   "pygments_lexer": "ipython3",
   "version": "3.9.16"
  },
  "orig_nbformat": 4
 },
 "nbformat": 4,
 "nbformat_minor": 2
}
