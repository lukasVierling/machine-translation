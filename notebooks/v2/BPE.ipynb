{
 "cells": [
  {
   "cell_type": "code",
   "execution_count": 13,
   "metadata": {},
   "outputs": [],
   "source": [
    "import sys\n",
    "sys.path.append('../..')\n",
    "\n",
    "import time\n",
    "\n",
    "import numpy as np\n",
    "import pandas as pd\n",
    "\n",
    "from src.data_loader import DataLoader\n",
    "from src.utils import BytePairEncoder\n",
    "import matplotlib.pyplot as plt\n",
    "from src.pickle_loader import PickleLoader"
   ]
  },
  {
   "attachments": {},
   "cell_type": "markdown",
   "metadata": {},
   "source": [
    "# Byte Pair Encoding Analysis"
   ]
  },
  {
   "cell_type": "code",
   "execution_count": 14,
   "metadata": {},
   "outputs": [],
   "source": [
    "en_data_loader = DataLoader('../../data/data_v2/multi30k.en.gz')\n",
    "de_data_loader = DataLoader('../../data/data_v2/multi30k.de.gz')"
   ]
  },
  {
   "cell_type": "code",
   "execution_count": 15,
   "metadata": {},
   "outputs": [],
   "source": [
    "with open(\"../../results/BPE_results.txt\", \"w\") as file:\n",
    "    file.write(\"Start BPE testing...\\n\\n\")\n",
    "num_operations = [1000,5000,15000]"
   ]
  },
  {
   "attachments": {},
   "cell_type": "markdown",
   "metadata": {},
   "source": [
    "## Learning BPE on German and English Data Individually"
   ]
  },
  {
   "attachments": {},
   "cell_type": "markdown",
   "metadata": {},
   "source": [
    "### English Data Set"
   ]
  },
  {
   "cell_type": "code",
   "execution_count": 16,
   "metadata": {},
   "outputs": [
    {
     "name": "stderr",
     "output_type": "stream",
     "text": [
      "Processing Text: 100%|██████████| 1000/1000 [00:21<00:00, 45.48it/s, New Rule: o@@t]         \n",
      "Processing Text: 100%|██████████| 5000/5000 [01:29<00:00, 56.08it/s, New Rule: sy@@stem]          \n",
      "Processing Text: 100%|██████████| 15000/15000 [03:14<00:00, 77.03it/s, New Rule: roose@@vel@@]           \n"
     ]
    }
   ],
   "source": [
    "vocab_sizes_en = []\n",
    "fit_time_en = []\n",
    "for operations in num_operations:\n",
    "    encoder = BytePairEncoder()\n",
    "    start_time = time.time()\n",
    "    vocab = encoder.fit(en_data_loader.load_data(),operations=operations)\n",
    "    end_time = time.time()\n",
    "    elapsed_time = (end_time - start_time)/60\n",
    "    vocab_sizes_en += [len(vocab)]\n",
    "    fit_time_en += [elapsed_time]\n",
    "    encoder.save_model(f'../../logs/BPE_EN_{operations}')"
   ]
  },
  {
   "cell_type": "code",
   "execution_count": 17,
   "metadata": {},
   "outputs": [
    {
     "name": "stdout",
     "output_type": "stream",
     "text": [
      "[1083, 4787, 10404]\n"
     ]
    }
   ],
   "source": [
    "print(vocab_sizes_en)"
   ]
  },
  {
   "attachments": {},
   "cell_type": "markdown",
   "metadata": {},
   "source": [
    "### German Data Set"
   ]
  },
  {
   "cell_type": "code",
   "execution_count": 18,
   "metadata": {},
   "outputs": [
    {
     "name": "stderr",
     "output_type": "stream",
     "text": [
      "Processing Text: 100%|██████████| 1000/1000 [00:49<00:00, 20.12it/s, New Rule: par@@k@@]       \n",
      "Processing Text: 100%|██████████| 5000/5000 [03:23<00:00, 24.55it/s, New Rule: betre@@ten]             \n",
      "Processing Text: 100%|██████████| 15000/15000 [08:02<00:00, 31.09it/s, New Rule: nasenkle@@mmen]                \n"
     ]
    }
   ],
   "source": [
    "vocab_sizes_de = []\n",
    "fit_time_de = []\n",
    "for operations in num_operations:\n",
    "    encoder = BytePairEncoder()\n",
    "    start_time = time.time()\n",
    "    vocab = encoder.fit(de_data_loader.load_data(),operations=operations)\n",
    "    end_time = time.time()\n",
    "    elapsed_time = (end_time - start_time)/60\n",
    "    vocab_sizes_de += [len(vocab)]\n",
    "    fit_time_de += [elapsed_time]\n",
    "    encoder.save_model(f'../../logs/BPE_DE_{operations}')"
   ]
  },
  {
   "attachments": {},
   "cell_type": "markdown",
   "metadata": {},
   "source": [
    "## Learning BPE on German and English Data Combined"
   ]
  },
  {
   "cell_type": "code",
   "execution_count": 19,
   "metadata": {},
   "outputs": [
    {
     "name": "stderr",
     "output_type": "stream",
     "text": [
      "Processing Text: 100%|██████████| 1000/1000 [01:12<00:00, 13.75it/s, New Rule: it@@en]        \n",
      "Processing Text: 100%|██████████| 5000/5000 [04:58<00:00, 16.76it/s, New Rule: dr@@ü@@]            \n",
      "Processing Text: 100%|██████████| 15000/15000 [11:59<00:00, 20.84it/s, New Rule: stan@@ts]                 \n"
     ]
    }
   ],
   "source": [
    "vocab_sizes_merged = []\n",
    "fit_time_merged = []\n",
    "merged_text = en_data_loader.load_data() + '\\n' + de_data_loader.load_data()\n",
    "for operations in num_operations:\n",
    "    encoder = BytePairEncoder()\n",
    "    start_time = time.time()\n",
    "    vocab = encoder.fit(merged_text,operations=operations)\n",
    "    end_time = time.time()\n",
    "    elapsed_time = (end_time - start_time)/60\n",
    "    vocab_sizes_merged += [len(vocab)]\n",
    "    fit_time_merged += [elapsed_time]\n",
    "    encoder.save_model(f'../../logs/BPE_JOINT_{operations}')"
   ]
  },
  {
   "attachments": {},
   "cell_type": "markdown",
   "metadata": {},
   "source": [
    "## 7k Operations for First model"
   ]
  },
  {
   "cell_type": "code",
   "execution_count": 25,
   "metadata": {},
   "outputs": [
    {
     "name": "stderr",
     "output_type": "stream",
     "text": [
      "Processing Text: 100%|██████████| 7000/7000 [01:56<00:00, 60.07it/s, New Rule: sc@@ru@@]          \n",
      "Processing Text: 100%|██████████| 7000/7000 [04:28<00:00, 26.12it/s, New Rule: leit@@ungen]              \n",
      "Processing Text: 100%|██████████| 7000/7000 [07:06<00:00, 16.42it/s, New Rule: h@@art]                 \n"
     ]
    },
    {
     "data": {
      "text/plain": [
       "'../../logs/BPE_JOINT_7000.pickle'"
      ]
     },
     "execution_count": 25,
     "metadata": {},
     "output_type": "execute_result"
    }
   ],
   "source": [
    "# English BPE\n",
    "en_encoder = BytePairEncoder()\n",
    "en_encoder.fit(en_data_loader.load_data(), operations=7000)\n",
    "en_encoder.save_model(f'../../logs/BPE_EN_{7000}')\n",
    "\n",
    "# German BPE\n",
    "de_encoder = BytePairEncoder()\n",
    "de_encoder.fit(de_data_loader.load_data(), operations=7000)\n",
    "de_encoder.save_model(f'../../logs/BPE_DE_{7000}')\n",
    "\n",
    "# Joint BPE\n",
    "merged_text = en_data_loader.load_data() + '\\n' + de_data_loader.load_data()\n",
    "joint_encoder = BytePairEncoder()\n",
    "joint_encoder.fit(merged_text, operations=7000)\n",
    "joint_encoder.save_model(f'../../logs/BPE_JOINT_{7000}')"
   ]
  },
  {
   "attachments": {},
   "cell_type": "markdown",
   "metadata": {},
   "source": [
    "# Quantiative Analysis"
   ]
  },
  {
   "cell_type": "code",
   "execution_count": 20,
   "metadata": {},
   "outputs": [
    {
     "name": "stdout",
     "output_type": "stream",
     "text": [
      "Comparison of total number of operations to vocabulary size:\n"
     ]
    },
    {
     "data": {
      "text/html": [
       "<style type=\"text/css\">\n",
       "#T_2c545_row0_col0, #T_2c545_row1_col2, #T_2c545_row2_col2 {\n",
       "  background-color: yellow;\n",
       "}\n",
       "</style>\n",
       "<table id=\"T_2c545\">\n",
       "  <thead>\n",
       "    <tr>\n",
       "      <th class=\"blank level0\" >&nbsp;</th>\n",
       "      <th id=\"T_2c545_level0_col0\" class=\"col_heading level0 col0\" >German Vocab Size</th>\n",
       "      <th id=\"T_2c545_level0_col1\" class=\"col_heading level0 col1\" >English Vocab Size</th>\n",
       "      <th id=\"T_2c545_level0_col2\" class=\"col_heading level0 col2\" >Merged Vocab Size</th>\n",
       "    </tr>\n",
       "    <tr>\n",
       "      <th class=\"index_name level0\" >Operations</th>\n",
       "      <th class=\"blank col0\" >&nbsp;</th>\n",
       "      <th class=\"blank col1\" >&nbsp;</th>\n",
       "      <th class=\"blank col2\" >&nbsp;</th>\n",
       "    </tr>\n",
       "  </thead>\n",
       "  <tbody>\n",
       "    <tr>\n",
       "      <th id=\"T_2c545_level0_row0\" class=\"row_heading level0 row0\" >1000</th>\n",
       "      <td id=\"T_2c545_row0_col0\" class=\"data row0 col0\" >1111</td>\n",
       "      <td id=\"T_2c545_row0_col1\" class=\"data row0 col1\" >1083</td>\n",
       "      <td id=\"T_2c545_row0_col2\" class=\"data row0 col2\" >1108</td>\n",
       "    </tr>\n",
       "    <tr>\n",
       "      <th id=\"T_2c545_level0_row1\" class=\"row_heading level0 row1\" >5000</th>\n",
       "      <td id=\"T_2c545_row1_col0\" class=\"data row1 col0\" >4970</td>\n",
       "      <td id=\"T_2c545_row1_col1\" class=\"data row1 col1\" >4787</td>\n",
       "      <td id=\"T_2c545_row1_col2\" class=\"data row1 col2\" >5030</td>\n",
       "    </tr>\n",
       "    <tr>\n",
       "      <th id=\"T_2c545_level0_row2\" class=\"row_heading level0 row2\" >15000</th>\n",
       "      <td id=\"T_2c545_row2_col0\" class=\"data row2 col0\" >13321</td>\n",
       "      <td id=\"T_2c545_row2_col1\" class=\"data row2 col1\" >10404</td>\n",
       "      <td id=\"T_2c545_row2_col2\" class=\"data row2 col2\" >14092</td>\n",
       "    </tr>\n",
       "  </tbody>\n",
       "</table>\n"
      ],
      "text/plain": [
       "<pandas.io.formats.style.Styler at 0x14f58a550>"
      ]
     },
     "execution_count": 20,
     "metadata": {},
     "output_type": "execute_result"
    }
   ],
   "source": [
    "data = {'German Vocab Size' : vocab_sizes_de, 'English Vocab Size' : vocab_sizes_en, 'Merged Vocab Size' : vocab_sizes_merged, 'Operations' : num_operations}\n",
    "df = pd.DataFrame(data)\n",
    "df = df.set_index('Operations')\n",
    "df = df.style.highlight_max(axis = 1, color='yellow')\n",
    "print(\"Comparison of total number of operations to vocabulary size:\")\n",
    "df"
   ]
  },
  {
   "cell_type": "code",
   "execution_count": 21,
   "metadata": {},
   "outputs": [
    {
     "name": "stdout",
     "output_type": "stream",
     "text": [
      "Comparison of total number of operations to learning time:\n"
     ]
    },
    {
     "data": {
      "text/html": [
       "<style type=\"text/css\">\n",
       "#T_bb2d1_row0_col2, #T_bb2d1_row1_col2, #T_bb2d1_row2_col2 {\n",
       "  background-color: yellow;\n",
       "}\n",
       "</style>\n",
       "<table id=\"T_bb2d1\">\n",
       "  <thead>\n",
       "    <tr>\n",
       "      <th class=\"blank level0\" >&nbsp;</th>\n",
       "      <th id=\"T_bb2d1_level0_col0\" class=\"col_heading level0 col0\" >Time on German (min)</th>\n",
       "      <th id=\"T_bb2d1_level0_col1\" class=\"col_heading level0 col1\" >Time on English (min)</th>\n",
       "      <th id=\"T_bb2d1_level0_col2\" class=\"col_heading level0 col2\" >Time on Merged (min)</th>\n",
       "    </tr>\n",
       "    <tr>\n",
       "      <th class=\"index_name level0\" >Operations</th>\n",
       "      <th class=\"blank col0\" >&nbsp;</th>\n",
       "      <th class=\"blank col1\" >&nbsp;</th>\n",
       "      <th class=\"blank col2\" >&nbsp;</th>\n",
       "    </tr>\n",
       "  </thead>\n",
       "  <tbody>\n",
       "    <tr>\n",
       "      <th id=\"T_bb2d1_level0_row0\" class=\"row_heading level0 row0\" >1000</th>\n",
       "      <td id=\"T_bb2d1_row0_col0\" class=\"data row0 col0\" >0.832160</td>\n",
       "      <td id=\"T_bb2d1_row0_col1\" class=\"data row0 col1\" >0.370051</td>\n",
       "      <td id=\"T_bb2d1_row0_col2\" class=\"data row0 col2\" >1.220438</td>\n",
       "    </tr>\n",
       "    <tr>\n",
       "      <th id=\"T_bb2d1_level0_row1\" class=\"row_heading level0 row1\" >5000</th>\n",
       "      <td id=\"T_bb2d1_row1_col0\" class=\"data row1 col0\" >3.398910</td>\n",
       "      <td id=\"T_bb2d1_row1_col1\" class=\"data row1 col1\" >1.491305</td>\n",
       "      <td id=\"T_bb2d1_row1_col2\" class=\"data row1 col2\" >4.980563</td>\n",
       "    </tr>\n",
       "    <tr>\n",
       "      <th id=\"T_bb2d1_level0_row2\" class=\"row_heading level0 row2\" >15000</th>\n",
       "      <td id=\"T_bb2d1_row2_col0\" class=\"data row2 col0\" >8.043519</td>\n",
       "      <td id=\"T_bb2d1_row2_col1\" class=\"data row2 col1\" >3.248100</td>\n",
       "      <td id=\"T_bb2d1_row2_col2\" class=\"data row2 col2\" >12.007882</td>\n",
       "    </tr>\n",
       "  </tbody>\n",
       "</table>\n"
      ],
      "text/plain": [
       "<pandas.io.formats.style.Styler at 0x14f59fa30>"
      ]
     },
     "execution_count": 21,
     "metadata": {},
     "output_type": "execute_result"
    }
   ],
   "source": [
    "data = {'Time on German (min)' : fit_time_de, 'Time on English (min)' : fit_time_en, 'Time on Merged (min)' : fit_time_merged, 'Operations' : num_operations}\n",
    "df = pd.DataFrame(data)\n",
    "df = df.set_index('Operations')\n",
    "df = df.style.highlight_max(axis = 1, color='yellow')\n",
    "print(\"Comparison of total number of operations to learning time:\")\n",
    "df"
   ]
  },
  {
   "attachments": {},
   "cell_type": "markdown",
   "metadata": {},
   "source": [
    "## Visualization"
   ]
  },
  {
   "cell_type": "code",
   "execution_count": 22,
   "metadata": {},
   "outputs": [
    {
     "data": {
      "image/png": "[encoded data removed]",
      "text/plain": [
       "<Figure size 640x480 with 1 Axes>"
      ]
     },
     "metadata": {},
     "output_type": "display_data"
    }
   ],
   "source": [
    "# plot the data\n",
    "x = np.array([0, 1, 2])\n",
    "bar_width = 0.25\n",
    "fig, ax = plt.subplots()\n",
    "ax.bar(x - bar_width, vocab_sizes_de, width=bar_width, label='German', color=(0.0, 0.0, 0.5))\n",
    "ax.bar(x, vocab_sizes_en, width=bar_width, label='English', color=(0.12, 0.56, 1.0))\n",
    "ax.bar(x + bar_width, vocab_sizes_merged, width=bar_width, label='Merged', color=(0.27, 0.51, 0.71))\n",
    "\n",
    "# set labels and title\n",
    "ax.set_ylabel('Size of Vocabulary')\n",
    "ax.set_xlabel('Number of Operations')\n",
    "ax.set_title('Bar Chart with Vocabulary to Operations Comparison')\n",
    "ax.set_xticks(x)\n",
    "ax.set_xticklabels(num_operations)\n",
    "ax.legend()\n",
    "\n",
    "plt.show()"
   ]
  },
  {
   "cell_type": "code",
   "execution_count": 23,
   "metadata": {},
   "outputs": [
    {
     "data": {
      "image/png": "[encoded data removed]",
      "text/plain": [
       "<Figure size 640x480 with 1 Axes>"
      ]
     },
     "metadata": {},
     "output_type": "display_data"
    }
   ],
   "source": [
    "# Create a figure and axis object\n",
    "fig, ax = plt.subplots()\n",
    "\n",
    "x = np.array([1, 2, 3])\n",
    "# Plot the curves\n",
    "ax.plot(x, vocab_sizes_de, label='German',color=(0.0, 0.0, 0.5))\n",
    "ax.plot(x, vocab_sizes_en, label='English',color=(0.12, 0.56, 1.0))\n",
    "ax.plot(x, vocab_sizes_merged, label='Merged',color=(0.27, 0.51, 0.71))\n",
    "# Add a legend\n",
    "ax.legend()\n",
    "\n",
    "ax.set_ylabel('Size of Vocabulary')\n",
    "ax.set_xlabel('Number of Operations')\n",
    "\n",
    "ax.set_xticks(x)\n",
    "ax.set_xticklabels(num_operations)\n",
    "\n",
    "# Show the plot\n",
    "plt.show()"
   ]
  },
  {
   "attachments": {},
   "cell_type": "markdown",
   "metadata": {},
   "source": [
    "# Qualitative Analysis"
   ]
  },
  {
   "attachments": {},
   "cell_type": "markdown",
   "metadata": {},
   "source": [
    "Whilst the BPE algorithm stopped to learn more words, the vocabulary learned on the German dataset grew even more. One possible reason could be the amount of long and combined words, which can be build in the German language. One example would be \"Antriebsradsystem\".\n",
    "\n",
    "There are also some differences between the vocabulary learned on German data compared to Vocabulary learned on the merged data. For example: \"antr@@ ie@@ b@@ s@@ rads@@ y@@ ste@@ m\" and \"an@@ trie@@ b@@ s@@ rads@@ yste@@ m \""
   ]
  },
  {
   "cell_type": "code",
   "execution_count": 24,
   "metadata": {},
   "outputs": [
    {
     "ename": "FileNotFoundError",
     "evalue": "[Errno 2] No such file or directory: '../results/BPE_results.txt'",
     "output_type": "error",
     "traceback": [
      "\u001b[0;31m---------------------------------------------------------------------------\u001b[0m",
      "\u001b[0;31mFileNotFoundError\u001b[0m                         Traceback (most recent call last)",
      "Cell \u001b[0;32mIn[24], line 1\u001b[0m\n\u001b[0;32m----> 1\u001b[0m \u001b[39mwith\u001b[39;00m \u001b[39mopen\u001b[39;49m(\u001b[39m\"\u001b[39;49m\u001b[39m../results/BPE_results.txt\u001b[39;49m\u001b[39m\"\u001b[39;49m, \u001b[39m\"\u001b[39;49m\u001b[39mr\u001b[39;49m\u001b[39m\"\u001b[39;49m) \u001b[39mas\u001b[39;00m file:\n\u001b[1;32m      2\u001b[0m     \u001b[39mprint\u001b[39m(file\u001b[39m.\u001b[39mread())\n",
      "File \u001b[0;32m~/opt/miniforge3/envs/machine_translation/lib/python3.9/site-packages/IPython/core/interactiveshell.py:284\u001b[0m, in \u001b[0;36m_modified_open\u001b[0;34m(file, *args, **kwargs)\u001b[0m\n\u001b[1;32m    277\u001b[0m \u001b[39mif\u001b[39;00m file \u001b[39min\u001b[39;00m {\u001b[39m0\u001b[39m, \u001b[39m1\u001b[39m, \u001b[39m2\u001b[39m}:\n\u001b[1;32m    278\u001b[0m     \u001b[39mraise\u001b[39;00m \u001b[39mValueError\u001b[39;00m(\n\u001b[1;32m    279\u001b[0m         \u001b[39mf\u001b[39m\u001b[39m\"\u001b[39m\u001b[39mIPython won\u001b[39m\u001b[39m'\u001b[39m\u001b[39mt let you open fd=\u001b[39m\u001b[39m{\u001b[39;00mfile\u001b[39m}\u001b[39;00m\u001b[39m by default \u001b[39m\u001b[39m\"\u001b[39m\n\u001b[1;32m    280\u001b[0m         \u001b[39m\"\u001b[39m\u001b[39mas it is likely to crash IPython. If you know what you are doing, \u001b[39m\u001b[39m\"\u001b[39m\n\u001b[1;32m    281\u001b[0m         \u001b[39m\"\u001b[39m\u001b[39myou can use builtins\u001b[39m\u001b[39m'\u001b[39m\u001b[39m open.\u001b[39m\u001b[39m\"\u001b[39m\n\u001b[1;32m    282\u001b[0m     )\n\u001b[0;32m--> 284\u001b[0m \u001b[39mreturn\u001b[39;00m io_open(file, \u001b[39m*\u001b[39;49margs, \u001b[39m*\u001b[39;49m\u001b[39m*\u001b[39;49mkwargs)\n",
      "\u001b[0;31mFileNotFoundError\u001b[0m: [Errno 2] No such file or directory: '../results/BPE_results.txt'"
     ]
    }
   ],
   "source": [
    "with open(\"../results/BPE_results.txt\", \"r\") as file:\n",
    "    print(file.read())"
   ]
  }
 ],
 "metadata": {
  "kernelspec": {
   "display_name": "MT",
   "language": "python",
   "name": "python3"
  },
  "language_info": {
   "codemirror_mode": {
    "name": "ipython",
    "version": 3
   },
   "file_extension": ".py",
   "mimetype": "text/x-python",
   "name": "python",
   "nbconvert_exporter": "python",
   "pygments_lexer": "ipython3",
   "version": "3.9.16"
  },
  "orig_nbformat": 4
 },
 "nbformat": 4,
 "nbformat_minor": 2
}
