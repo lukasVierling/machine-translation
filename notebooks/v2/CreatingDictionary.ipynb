{
 "cells": [
  {
   "attachments": {},
   "cell_type": "markdown",
   "metadata": {},
   "source": [
    "# Imports"
   ]
  },
  {
   "cell_type": "code",
   "execution_count": 3,
   "metadata": {},
   "outputs": [],
   "source": [
    "import sys\n",
    "sys.path.append(\"../..\")\n",
    "\n",
    "from src.preprocessing.dictionary import Dictionary\n",
    "from src.pickle_loader import PickleLoader\n",
    "from src.data_loader import DataLoader\n",
    "from src.utils.byte_pair_encoding import BytePairEncoder"
   ]
  },
  {
   "attachments": {},
   "cell_type": "markdown",
   "metadata": {},
   "source": [
    "# Loading data"
   ]
  },
  {
   "cell_type": "code",
   "execution_count": 4,
   "metadata": {},
   "outputs": [],
   "source": [
    "en_data_loader = DataLoader(\"../../data/unpreprocessed/train/target.train.gz\")\n",
    "de_data_loader = DataLoader(\"../../data/unpreprocessed/train/source.train.gz\")"
   ]
  },
  {
   "cell_type": "code",
   "execution_count": 5,
   "metadata": {},
   "outputs": [],
   "source": [
    "en_bpe = PickleLoader.load(\"../../encoder/BPE_EN_7000.pickle\")\n",
    "de_bpe = PickleLoader.load(\"../../encoder/BPE_DE_7000.pickle\")"
   ]
  },
  {
   "cell_type": "code",
   "execution_count": 6,
   "metadata": {},
   "outputs": [],
   "source": [
    "en_encoded = en_bpe.encode_corpus(en_data_loader.load_data())\n",
    "de_encoded = de_bpe.encode_corpus(de_data_loader.load_data())"
   ]
  },
  {
   "cell_type": "code",
   "execution_count": 9,
   "metadata": {},
   "outputs": [
    {
     "name": "stdout",
     "output_type": "stream",
     "text": [
      "{'<UNK>': 2, '<s>': 0, '</s>': 1}\n",
      "{'<UNK>': 2, '<s>': 0, '</s>': 1}\n"
     ]
    }
   ],
   "source": [
    "en_dictionary = Dictionary(\"EN7000\")\n",
    "de_dictionary = Dictionary(\"DE7000\")\n",
    "\n",
    "en_dictionary.update(en_encoded)\n",
    "de_dictionary.update(de_encoded)\n",
    "\n",
    "PickleLoader.save(\"../../dictionaries/dict_EN_7000.pkl\", en_dictionary)\n",
    "PickleLoader.save(\"../../dictionaries/dict_DE_7000.pkl\", de_dictionary)"
   ]
  },
  {
   "attachments": {},
   "cell_type": "markdown",
   "metadata": {},
   "source": [
    "# Creating and saving dictionaires"
   ]
  },
  {
   "cell_type": "code",
   "execution_count": null,
   "metadata": {},
   "outputs": [
    {
     "name": "stdout",
     "output_type": "stream",
     "text": [
      "{'<UNK>': 2, '<s>': 0, '</s>': 1}\n",
      "{'<UNK>': 2, '<s>': 0, '</s>': 1}\n"
     ]
    }
   ],
   "source": [
    "en_dictionary = Dictionary(\"EN_5000\")\n",
    "de_dictionary = Dictionary(\"DE_5000\")\n",
    "\n",
    "en_dictionary.update(en_encoded)\n",
    "de_dictionary.update(de_encoded)\n",
    "\n",
    "PickleLoader.save(\"../../data/dictionaries/dict_EN_5000.pkl\", en_dictionary)\n",
    "PickleLoader.save(\"../../data/dictionaries/dict_DE_5000.pkl\", de_dictionary)"
   ]
  },
  {
   "attachments": {},
   "cell_type": "markdown",
   "metadata": {},
   "source": [
    "# Creating and saving indexed data"
   ]
  },
  {
   "cell_type": "code",
   "execution_count": null,
   "metadata": {},
   "outputs": [],
   "source": [
    "en_indexed = en_dictionary.apply_mapping(en_encoded)\n",
    "de_indexed = de_dictionary.apply_mapping(de_encoded)\n",
    "\n",
    "PickleLoader.save(\"../../data/data_v2/multi30k.en.5000_BPE.indexed.pickle\", en_indexed)\n",
    "PickleLoader.save(\"../../data/data_v2/multi30k.de.5000_BPE.indexed.pickle\", de_indexed)"
   ]
  },
  {
   "attachments": {},
   "cell_type": "markdown",
   "metadata": {},
   "source": [
    "## 7k Indexing for First Model"
   ]
  },
  {
   "cell_type": "code",
   "execution_count": 20,
   "metadata": {},
   "outputs": [],
   "source": [
    "en_data_loader = DataLoader(\"../../data/unpreprocessed/dev/target.dev\")\n",
    "de_data_loader = DataLoader(\"../../data/unpreprocessed/dev/source.dev\")"
   ]
  },
  {
   "cell_type": "code",
   "execution_count": 21,
   "metadata": {},
   "outputs": [],
   "source": [
    "en_data = en_data_loader.load_data()\n",
    "de_data = de_data_loader.load_data()"
   ]
  },
  {
   "cell_type": "code",
   "execution_count": 22,
   "metadata": {},
   "outputs": [],
   "source": [
    "en_encoder = PickleLoader.load(\"../../encoder/BPE_EN_7000.pickle\")\n",
    "de_encoder = PickleLoader.load(\"../../encoder/BPE_DE_7000.pickle\")"
   ]
  },
  {
   "cell_type": "code",
   "execution_count": 23,
   "metadata": {},
   "outputs": [],
   "source": [
    "en_encoded = en_encoder.encode_corpus(en_data)\n",
    "de_encoded = de_encoder.encode_corpus(de_data)"
   ]
  },
  {
   "cell_type": "code",
   "execution_count": null,
   "metadata": {},
   "outputs": [],
   "source": [
    "en_dictionary = PickleLoader.load(\"../../dictionaries/dict_EN_7000.pkl\")\n",
    "de_dictionary = PickleLoader.load(\"../../dictionaries/dict_DE_7000.pkl\")"
   ]
  },
  {
   "cell_type": "code",
   "execution_count": null,
   "metadata": {},
   "outputs": [],
   "source": [
    "PickleLoader.save(\"../../dictionaries/dict_EN_7000.pkl\", en_dictionary)\n",
    "PickleLoader.save(\"../../dictionaries/dict_DE_7000.pkl\", de_dictionary)"
   ]
  },
  {
   "cell_type": "code",
   "execution_count": null,
   "metadata": {},
   "outputs": [],
   "source": [
    "en_indexed = en_dictionary.apply_mapping(en_encoded)\n",
    "de_indexed = de_dictionary.apply_mapping(de_encoded)"
   ]
  },
  {
   "cell_type": "code",
   "execution_count": null,
   "metadata": {},
   "outputs": [],
   "source": [
    "PickleLoader.save(\"../../data/7k_BPE_indexed/dev/target.train.pickle\", en_indexed)\n",
    "PickleLoader.save(\"../../data/7k_BPE_indexed/dev/source.train.pickle\", de_indexed)"
   ]
  }
 ],
 "metadata": {
  "kernelspec": {
   "display_name": "machine_translation",
   "language": "python",
   "name": "python3"
  },
  "language_info": {
   "codemirror_mode": {
    "name": "ipython",
    "version": 3
   },
   "file_extension": ".py",
   "mimetype": "text/x-python",
   "name": "python",
   "nbconvert_exporter": "python",
   "pygments_lexer": "ipython3",
   "version": "3.9.16"
  },
  "orig_nbformat": 4
 },
 "nbformat": 4,
 "nbformat_minor": 2
}
