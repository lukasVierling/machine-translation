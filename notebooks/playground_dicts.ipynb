{
 "cells": [
  {
   "cell_type": "code",
   "execution_count": 26,
   "metadata": {},
   "outputs": [],
   "source": [
    "import sys\n",
    "sys.path.append('..')\n",
    "\n",
    "from src.data_loader import DataLoader\n",
    "from src.pickle_loader import PickleLoader\n",
    "from src.utils.byte_pair_encoding import BytePairEncoder\n",
    "from src.preprocessing.dictionary import Dictionary\n",
    "\n",
    "OPS = 1000"
   ]
  },
  {
   "cell_type": "code",
   "execution_count": 27,
   "metadata": {},
   "outputs": [],
   "source": [
    "# Load data\n",
    "de_train_data_loader = DataLoader('../data/unpreprocessed/train/source.train.gz')\n",
    "en_train_data_loader = DataLoader('../data/unpreprocessed/train/target.train.gz')\n",
    "\n",
    "de_dev_data_loader = DataLoader('../data/unpreprocessed/dev/source.dev')\n",
    "en_dev_data_loader = DataLoader('../data/unpreprocessed/dev/target.dev')"
   ]
  },
  {
   "cell_type": "code",
   "execution_count": 28,
   "metadata": {},
   "outputs": [],
   "source": [
    "# load BPE encoders\n",
    "joined_bpe = PickleLoader.load(f\"../encoder/BPE_JOINT_{OPS}.pickle\")\n",
    "en_bpe = PickleLoader.load(f\"../encoder/BPE_EN_{OPS}.pickle\")\n",
    "de_bpe = PickleLoader.load(f\"../encoder/BPE_DE_{OPS}.pickle\")"
   ]
  },
  {
   "cell_type": "code",
   "execution_count": 29,
   "metadata": {},
   "outputs": [],
   "source": [
    "# encode text\n",
    "en_train_encoded = en_bpe.encode_corpus(en_train_data_loader.load_data())\n",
    "de_train_encoded = de_bpe.encode_corpus(de_train_data_loader.load_data())\n",
    "\n",
    "en_dev_encoded = en_bpe.encode_corpus(en_dev_data_loader.load_data())\n",
    "de_dev_encoded = de_bpe.encode_corpus(de_dev_data_loader.load_data())\n",
    "\n",
    "en_train_encoded_joined = joined_bpe.encode_corpus(en_train_data_loader.load_data())\n",
    "de_train_encoded_joined = joined_bpe.encode_corpus(de_train_data_loader.load_data())\n",
    "\n",
    "en_dev_encoded_joined = joined_bpe.encode_corpus(en_dev_data_loader.load_data())\n",
    "de_dev_encoded_joined = joined_bpe.encode_corpus(de_dev_data_loader.load_data())"
   ]
  },
  {
   "cell_type": "code",
   "execution_count": 30,
   "metadata": {},
   "outputs": [
    {
     "name": "stdout",
     "output_type": "stream",
     "text": [
      "{'<UNK>': 2, '<s>': 0, '</s>': 1}\n",
      "{'<UNK>': 2, '<s>': 0, '</s>': 1}\n",
      "{'<UNK>': 2, '<s>': 0, '</s>': 1}\n",
      "{'<UNK>': 2, '<s>': 0, '</s>': 1}\n"
     ]
    }
   ],
   "source": [
    "# dictionaries\n",
    "en_dict = Dictionary(f\"EN{OPS}\")\n",
    "de_dict = Dictionary(f\"DE{OPS}\")\n",
    "\n",
    "en_joined_dict = Dictionary(f\"JOINED_EN{OPS}\")\n",
    "de_joined_dict = Dictionary(f\"JOINED_DE{OPS}\")\n",
    "\n",
    "# build dictionaries\n",
    "en_dict.update(en_train_encoded)\n",
    "de_dict.update(de_train_encoded)\n",
    "\n",
    "en_joined_dict.update(en_train_encoded_joined)\n",
    "de_joined_dict.update(de_train_encoded_joined)\n",
    "\n",
    "# save dictionaries\n",
    "PickleLoader.save(f\"../dictionaries/dict_EN_{OPS}.pkl\", en_dict)\n",
    "PickleLoader.save(f\"../dictionaries/dict_DE_{OPS}.pkl\", de_dict)\n",
    "\n",
    "PickleLoader.save(f\"../dictionaries/dict_JOINED_EN_{OPS}.pkl\", en_joined_dict)\n",
    "PickleLoader.save(f\"../dictionaries/dict_JOINED_DE_{OPS}.pkl\", de_joined_dict)"
   ]
  },
  {
   "cell_type": "code",
   "execution_count": 31,
   "metadata": {},
   "outputs": [],
   "source": [
    "# apply mappings\n",
    "en_train_indexed = en_dict.apply_mapping(en_train_encoded)\n",
    "de_train_indexed = de_dict.apply_mapping(de_train_encoded)\n",
    "\n",
    "en_dev_indexed = en_dict.apply_mapping(en_dev_encoded)\n",
    "de_dev_indexed = de_dict.apply_mapping(de_dev_encoded)\n",
    "\n",
    "en_train_indexed_joined = en_joined_dict.apply_mapping(en_train_encoded_joined)\n",
    "de_train_indexed_joined = de_joined_dict.apply_mapping(de_train_encoded_joined)\n",
    "\n",
    "en_dev_indexed_joined = en_joined_dict.apply_mapping(en_dev_encoded_joined)\n",
    "de_dev_indexed_joined = de_joined_dict.apply_mapping(de_dev_encoded_joined)\n",
    "\n",
    "# save indexed data\n",
    "PickleLoader.save(f\"../data/{OPS//1000}k_BPE_indexed/train/source.train.pickle\", de_train_indexed)\n",
    "PickleLoader.save(f\"../data/{OPS//1000}k_BPE_indexed/train/target.train.pickle\", en_train_indexed)\n",
    "#\n",
    "PickleLoader.save(f\"../data/{OPS//1000}k_BPE_indexed/dev/source.dev.pickle\", de_dev_indexed)\n",
    "PickleLoader.save(f\"../data/{OPS//1000}k_BPE_indexed/dev/target.dev.pickle\", en_dev_indexed)\n",
    "\n",
    "PickleLoader.save(f\"../data/{OPS//1000}k_joined_BPE_indexed/train/source.train.pickle\", de_train_indexed_joined)\n",
    "PickleLoader.save(f\"../data/{OPS//1000}k_joined_BPE_indexed/train/target.train.pickle\", en_train_indexed_joined)\n",
    "\n",
    "PickleLoader.save(f\"../data/{OPS//1000}k_joined_BPE_indexed/dev/source.dev.pickle\", de_dev_indexed_joined)\n",
    "PickleLoader.save(f\"../data/{OPS//1000}k_joined_BPE_indexed/dev/target.dev.pickle\", en_dev_indexed_joined)\n"
   ]
  }
 ],
 "metadata": {
  "kernelspec": {
   "display_name": "machine_translation",
   "language": "python",
   "name": "python3"
  },
  "language_info": {
   "codemirror_mode": {
    "name": "ipython",
    "version": 3
   },
   "file_extension": ".py",
   "mimetype": "text/x-python",
   "name": "python",
   "nbconvert_exporter": "python",
   "pygments_lexer": "ipython3",
   "version": "3.9.16"
  },
  "orig_nbformat": 4
 },
 "nbformat": 4,
 "nbformat_minor": 2
}
